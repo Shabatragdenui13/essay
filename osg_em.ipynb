{
 "cells": [
  {
   "cell_type": "code",
   "execution_count": 1,
   "id": "9f28b12f",
   "metadata": {},
   "outputs": [],
   "source": [
    "import cx_Oracle as ora\n",
    "import os\n",
    "from configparser import ConfigParser\n",
    "\n",
    "import pandas as pd\n",
    "import numpy as np\n",
    "from sklearn.model_selection import cross_val_score, StratifiedKFold\n",
    "from sklearn.inspection import permutation_importance\n",
    "\n",
    "from lightgbm import LGBMClassifier\n",
    "from catboost import Pool,CatBoostClassifier\n",
    "from sklearn.linear_model import LogisticRegression\n",
    "\n",
    "\n",
    "import sklearn\n",
    "from sklearn.metrics import f1_score, roc_auc_score, fbeta_score, recall_score, precision_score, precision_recall_curve, auc,cohen_kappa_score\n",
    "from sklearn.preprocessing import StandardScaler\n",
    "from sklearn.model_selection import train_test_split\n",
    "from sklearn.calibration import CalibratedClassifierCV\n",
    "from sklearn.pipeline import make_pipeline\n",
    "\n",
    "import category_encoders as ce\n",
    "\n",
    "import optuna\n",
    "from imblearn.under_sampling import NearMiss, CondensedNearestNeighbour, ClusterCentroids, RandomUnderSampler\n",
    "from imblearn.metrics import geometric_mean_score\n",
    "\n",
    "from tqdm import tqdm\n",
    "\n",
    "from pandas.api.types import is_datetime64_any_dtype as is_datetime\n",
    "from src import utils as ut\n",
    "\n",
    "import pickle\n",
    "import pyarrow.parquet as pq\n",
    "import pyarrow as pa\n",
    "\n",
    "import matplotlib.pyplot as plt\n",
    "pd.set_option('display.max_columns', None)"
   ]
  },
  {
   "cell_type": "code",
   "execution_count": 2,
   "id": "11b8b9dc",
   "metadata": {},
   "outputs": [],
   "source": [
    "df_new = pd.read_parquet('../data/osg_em_df_prepared_with_clients_feat_21_03.parquet')"
   ]
  },
  {
   "cell_type": "code",
   "execution_count": null,
   "id": "d6487f7b",
   "metadata": {},
   "outputs": [],
   "source": []
  },
  {
   "cell_type": "code",
   "execution_count": 3,
   "id": "f122d62e",
   "metadata": {},
   "outputs": [
    {
     "data": {
      "text/plain": [
       "28826"
      ]
     },
     "execution_count": 3,
     "metadata": {},
     "output_type": "execute_result"
    }
   ],
   "source": [
    "df_new[df_new.TARGET==0].shape[0]"
   ]
  },
  {
   "cell_type": "code",
   "execution_count": 4,
   "id": "6c0805d9",
   "metadata": {},
   "outputs": [
    {
     "data": {
      "text/plain": [
       "29110"
      ]
     },
     "execution_count": 4,
     "metadata": {},
     "output_type": "execute_result"
    }
   ],
   "source": [
    "df_new.shape[0]"
   ]
  },
  {
   "cell_type": "code",
   "execution_count": 5,
   "id": "dd6c92fe",
   "metadata": {},
   "outputs": [
    {
     "data": {
      "text/plain": [
       "284"
      ]
     },
     "execution_count": 5,
     "metadata": {},
     "output_type": "execute_result"
    }
   ],
   "source": [
    "df_new[df_new.TARGET >0].shape[0]"
   ]
  },
  {
   "cell_type": "code",
   "execution_count": null,
   "id": "8b5c20ca",
   "metadata": {},
   "outputs": [],
   "source": []
  },
  {
   "cell_type": "code",
   "execution_count": 6,
   "id": "b380765b",
   "metadata": {},
   "outputs": [],
   "source": [
    "drop_list = ['OBSDATE','CLIENTISN','TARGET']"
   ]
  },
  {
   "cell_type": "code",
   "execution_count": 7,
   "id": "581302af",
   "metadata": {},
   "outputs": [],
   "source": [
    "X = df_new.drop(columns=drop_list)\n",
    "y = df_new[['TARGET']]"
   ]
  },
  {
   "cell_type": "code",
   "execution_count": 8,
   "id": "7cd36242",
   "metadata": {},
   "outputs": [],
   "source": [
    "# positive = df_new[df_new.TARGET==1]\n",
    "# negative = df_new[df_new.TARGET==0].sample(n=len(df_new[df_new.TARGET==1])*5, random_state=123)\n",
    "# df = pd.concat([positive, negative])\n",
    "\n",
    "# X = df.drop(columns=drop_list)\n",
    "# y = df[['TARGET']]\n",
    "\n",
    "# from imblearn.over_sampling import RandomOverSampler\n",
    "# ros = RandomOverSampler(random_state=123)\n",
    "# X_resampled, y_resampled = ros.fit_resample(X, y)\n",
    "# X_resampled['TARGET'] = y_resampled\n",
    "\n",
    "# positive = X_resampled[X_resampled.TARGET==1]\n",
    "# negative = df_new[df_new.TARGET==0].sample(n=len(df_new[df_new.TARGET==0])//3, random_state=123)\n",
    "# df_new = pd.concat([positive, negative])"
   ]
  },
  {
   "cell_type": "code",
   "execution_count": 9,
   "id": "f8c0e95c",
   "metadata": {},
   "outputs": [
    {
     "data": {
      "text/plain": [
       "29110"
      ]
     },
     "execution_count": 9,
     "metadata": {},
     "output_type": "execute_result"
    }
   ],
   "source": [
    "df_new.shape[0]"
   ]
  },
  {
   "cell_type": "code",
   "execution_count": 10,
   "id": "4bdd800a",
   "metadata": {},
   "outputs": [
    {
     "data": {
      "text/plain": [
       "284"
      ]
     },
     "execution_count": 10,
     "metadata": {},
     "output_type": "execute_result"
    }
   ],
   "source": [
    "df_new[df_new.TARGET >0].shape[0]"
   ]
  },
  {
   "cell_type": "code",
   "execution_count": null,
   "id": "42cabfe9",
   "metadata": {},
   "outputs": [],
   "source": []
  },
  {
   "cell_type": "code",
   "execution_count": null,
   "id": "ba3a942f",
   "metadata": {},
   "outputs": [],
   "source": []
  },
  {
   "cell_type": "code",
   "execution_count": 11,
   "id": "7743359b",
   "metadata": {},
   "outputs": [],
   "source": [
    "df_new = pd.read_parquet('../data/osg_em_df_prepared_with_clients_feat_21_03.parquet')"
   ]
  },
  {
   "cell_type": "code",
   "execution_count": 12,
   "id": "c92a72b3",
   "metadata": {},
   "outputs": [],
   "source": [
    "drop_list = ['OBSDATE','CLIENTISN','TARGET']"
   ]
  },
  {
   "cell_type": "code",
   "execution_count": 13,
   "id": "98ada1cf",
   "metadata": {},
   "outputs": [],
   "source": [
    "X = df_new.drop(columns=drop_list)\n",
    "y = df_new[['TARGET']]"
   ]
  },
  {
   "cell_type": "code",
   "execution_count": null,
   "id": "9602e868",
   "metadata": {},
   "outputs": [],
   "source": []
  },
  {
   "cell_type": "code",
   "execution_count": null,
   "id": "bc7febe5",
   "metadata": {},
   "outputs": [],
   "source": []
  },
  {
   "cell_type": "code",
   "execution_count": 14,
   "id": "4e74a738",
   "metadata": {},
   "outputs": [],
   "source": [
    "X_train, X_test, y_train, y_test = train_test_split(X, y, test_size=0.2, random_state=123)"
   ]
  },
  {
   "cell_type": "code",
   "execution_count": 15,
   "id": "8fa5dd87",
   "metadata": {},
   "outputs": [],
   "source": [
    "w = y_train[y_train.TARGET == 0].shape[0]/y_train[y_train.TARGET == 1].shape[0]"
   ]
  },
  {
   "cell_type": "code",
   "execution_count": 16,
   "id": "3f214e2a",
   "metadata": {},
   "outputs": [
    {
     "data": {
      "text/plain": [
       "102.96428571428571"
      ]
     },
     "execution_count": 16,
     "metadata": {},
     "output_type": "execute_result"
    }
   ],
   "source": [
    "w"
   ]
  },
  {
   "cell_type": "code",
   "execution_count": 17,
   "id": "f9b7a1e7",
   "metadata": {},
   "outputs": [
    {
     "name": "stdout",
     "output_type": "stream",
     "text": [
      "Learning rate set to 0.5\n",
      "0:\tlearn: 0.6251750\ttotal: 168ms\tremaining: 0us\n",
      "Learning rate set to 0.5\n",
      "0:\tlearn: 0.6251750\ttotal: 24.3ms\tremaining: 48.7ms\n",
      "1:\tlearn: 0.7277421\ttotal: 48.3ms\tremaining: 24.2ms\n",
      "2:\tlearn: 0.7505853\ttotal: 70.3ms\tremaining: 0us\n",
      "Learning rate set to 0.5\n",
      "0:\tlearn: 0.6251750\ttotal: 24.2ms\tremaining: 96.8ms\n",
      "1:\tlearn: 0.7277421\ttotal: 49.2ms\tremaining: 73.7ms\n",
      "2:\tlearn: 0.7505853\ttotal: 71.5ms\tremaining: 47.6ms\n",
      "3:\tlearn: 0.7682272\ttotal: 94.3ms\tremaining: 23.6ms\n",
      "4:\tlearn: 0.8071562\ttotal: 119ms\tremaining: 0us\n",
      "Learning rate set to 0.5\n",
      "0:\tlearn: 0.6251750\ttotal: 25.3ms\tremaining: 152ms\n",
      "1:\tlearn: 0.7277421\ttotal: 49.5ms\tremaining: 124ms\n",
      "2:\tlearn: 0.7505853\ttotal: 71.5ms\tremaining: 95.4ms\n",
      "3:\tlearn: 0.7682272\ttotal: 94.2ms\tremaining: 70.6ms\n",
      "4:\tlearn: 0.8071562\ttotal: 119ms\tremaining: 47.6ms\n",
      "5:\tlearn: 0.8341649\ttotal: 142ms\tremaining: 23.7ms\n",
      "6:\tlearn: 0.8335161\ttotal: 165ms\tremaining: 0us\n",
      "Learning rate set to 0.5\n",
      "0:\tlearn: 0.6251750\ttotal: 24.3ms\tremaining: 195ms\n",
      "1:\tlearn: 0.7277421\ttotal: 48.7ms\tremaining: 170ms\n",
      "2:\tlearn: 0.7505853\ttotal: 70.7ms\tremaining: 141ms\n",
      "3:\tlearn: 0.7682272\ttotal: 93.1ms\tremaining: 116ms\n",
      "4:\tlearn: 0.8071562\ttotal: 118ms\tremaining: 94.2ms\n",
      "5:\tlearn: 0.8341649\ttotal: 140ms\tremaining: 69.9ms\n",
      "6:\tlearn: 0.8335161\ttotal: 163ms\tremaining: 46.5ms\n",
      "7:\tlearn: 0.8436617\ttotal: 185ms\tremaining: 23.2ms\n",
      "8:\tlearn: 0.8526352\ttotal: 209ms\tremaining: 0us\n",
      "Learning rate set to 0.5\n",
      "0:\tlearn: 0.6251750\ttotal: 24ms\tremaining: 240ms\n",
      "1:\tlearn: 0.7277421\ttotal: 48.9ms\tremaining: 220ms\n",
      "2:\tlearn: 0.7505853\ttotal: 71.2ms\tremaining: 190ms\n",
      "3:\tlearn: 0.7682272\ttotal: 94.2ms\tremaining: 165ms\n",
      "4:\tlearn: 0.8071562\ttotal: 119ms\tremaining: 143ms\n",
      "5:\tlearn: 0.8341649\ttotal: 141ms\tremaining: 118ms\n",
      "6:\tlearn: 0.8335161\ttotal: 164ms\tremaining: 93.9ms\n",
      "7:\tlearn: 0.8436617\ttotal: 187ms\tremaining: 70ms\n",
      "8:\tlearn: 0.8526352\ttotal: 210ms\tremaining: 46.8ms\n",
      "9:\tlearn: 0.8705373\ttotal: 233ms\tremaining: 23.3ms\n",
      "10:\tlearn: 0.8841051\ttotal: 256ms\tremaining: 0us\n",
      "Learning rate set to 0.5\n",
      "0:\tlearn: 0.6251750\ttotal: 24.6ms\tremaining: 296ms\n",
      "1:\tlearn: 0.7277421\ttotal: 49.2ms\tremaining: 270ms\n",
      "2:\tlearn: 0.7505853\ttotal: 71.7ms\tremaining: 239ms\n",
      "3:\tlearn: 0.7682272\ttotal: 94.5ms\tremaining: 213ms\n",
      "4:\tlearn: 0.8071562\ttotal: 119ms\tremaining: 191ms\n",
      "5:\tlearn: 0.8341649\ttotal: 141ms\tremaining: 165ms\n",
      "6:\tlearn: 0.8335161\ttotal: 164ms\tremaining: 141ms\n",
      "7:\tlearn: 0.8436617\ttotal: 187ms\tremaining: 117ms\n",
      "8:\tlearn: 0.8526352\ttotal: 211ms\tremaining: 93.6ms\n",
      "9:\tlearn: 0.8705373\ttotal: 233ms\tremaining: 70ms\n",
      "10:\tlearn: 0.8841051\ttotal: 257ms\tremaining: 46.7ms\n",
      "11:\tlearn: 0.8881807\ttotal: 280ms\tremaining: 23.3ms\n",
      "12:\tlearn: 0.8886158\ttotal: 302ms\tremaining: 0us\n",
      "Learning rate set to 0.5\n",
      "0:\tlearn: 0.6251750\ttotal: 24.6ms\tremaining: 344ms\n",
      "1:\tlearn: 0.7277421\ttotal: 48.2ms\tremaining: 313ms\n",
      "2:\tlearn: 0.7505853\ttotal: 70.2ms\tremaining: 281ms\n",
      "3:\tlearn: 0.7682272\ttotal: 93ms\tremaining: 256ms\n",
      "4:\tlearn: 0.8071562\ttotal: 118ms\tremaining: 235ms\n",
      "5:\tlearn: 0.8341649\ttotal: 140ms\tremaining: 210ms\n",
      "6:\tlearn: 0.8335161\ttotal: 163ms\tremaining: 186ms\n",
      "7:\tlearn: 0.8436617\ttotal: 185ms\tremaining: 162ms\n",
      "8:\tlearn: 0.8526352\ttotal: 207ms\tremaining: 138ms\n",
      "9:\tlearn: 0.8705373\ttotal: 230ms\tremaining: 115ms\n",
      "10:\tlearn: 0.8841051\ttotal: 253ms\tremaining: 91.9ms\n",
      "11:\tlearn: 0.8881807\ttotal: 276ms\tremaining: 68.9ms\n",
      "12:\tlearn: 0.8886158\ttotal: 298ms\tremaining: 45.8ms\n",
      "13:\tlearn: 0.9027055\ttotal: 320ms\tremaining: 22.9ms\n",
      "14:\tlearn: 0.9139785\ttotal: 344ms\tremaining: 0us\n",
      "Learning rate set to 0.5\n",
      "0:\tlearn: 0.6251750\ttotal: 24.4ms\tremaining: 391ms\n",
      "1:\tlearn: 0.7277421\ttotal: 48.8ms\tremaining: 366ms\n",
      "2:\tlearn: 0.7505853\ttotal: 70.5ms\tremaining: 329ms\n",
      "3:\tlearn: 0.7682272\ttotal: 93.3ms\tremaining: 303ms\n",
      "4:\tlearn: 0.8071562\ttotal: 118ms\tremaining: 283ms\n",
      "5:\tlearn: 0.8341649\ttotal: 140ms\tremaining: 256ms\n",
      "6:\tlearn: 0.8335161\ttotal: 162ms\tremaining: 232ms\n",
      "7:\tlearn: 0.8436617\ttotal: 185ms\tremaining: 208ms\n",
      "8:\tlearn: 0.8526352\ttotal: 208ms\tremaining: 185ms\n",
      "9:\tlearn: 0.8705373\ttotal: 231ms\tremaining: 162ms\n",
      "10:\tlearn: 0.8841051\ttotal: 254ms\tremaining: 138ms\n",
      "11:\tlearn: 0.8881807\ttotal: 277ms\tremaining: 115ms\n",
      "12:\tlearn: 0.8886158\ttotal: 299ms\tremaining: 91.9ms\n",
      "13:\tlearn: 0.9027055\ttotal: 322ms\tremaining: 68.9ms\n",
      "14:\tlearn: 0.9139785\ttotal: 346ms\tremaining: 46.1ms\n",
      "15:\tlearn: 0.9204821\ttotal: 369ms\tremaining: 23ms\n",
      "16:\tlearn: 0.9225199\ttotal: 392ms\tremaining: 0us\n",
      "Learning rate set to 0.5\n",
      "0:\tlearn: 0.6251750\ttotal: 24.2ms\tremaining: 436ms\n",
      "1:\tlearn: 0.7277421\ttotal: 48.3ms\tremaining: 411ms\n",
      "2:\tlearn: 0.7505853\ttotal: 70.4ms\tremaining: 375ms\n",
      "3:\tlearn: 0.7682272\ttotal: 92.7ms\tremaining: 348ms\n",
      "4:\tlearn: 0.8071562\ttotal: 118ms\tremaining: 329ms\n",
      "5:\tlearn: 0.8341649\ttotal: 140ms\tremaining: 302ms\n",
      "6:\tlearn: 0.8335161\ttotal: 162ms\tremaining: 278ms\n",
      "7:\tlearn: 0.8436617\ttotal: 185ms\tremaining: 254ms\n",
      "8:\tlearn: 0.8526352\ttotal: 208ms\tremaining: 231ms\n",
      "9:\tlearn: 0.8705373\ttotal: 230ms\tremaining: 207ms\n",
      "10:\tlearn: 0.8841051\ttotal: 253ms\tremaining: 184ms\n",
      "11:\tlearn: 0.8881807\ttotal: 277ms\tremaining: 161ms\n",
      "12:\tlearn: 0.8886158\ttotal: 298ms\tremaining: 138ms\n",
      "13:\tlearn: 0.9027055\ttotal: 321ms\tremaining: 115ms\n",
      "14:\tlearn: 0.9139785\ttotal: 345ms\tremaining: 92ms\n",
      "15:\tlearn: 0.9204821\ttotal: 368ms\tremaining: 69.1ms\n",
      "16:\tlearn: 0.9225199\ttotal: 392ms\tremaining: 46.1ms\n",
      "17:\tlearn: 0.9253382\ttotal: 415ms\tremaining: 23ms\n",
      "18:\tlearn: 0.9268991\ttotal: 439ms\tremaining: 0us\n",
      "Learning rate set to 0.5\n",
      "0:\tlearn: 0.6251750\ttotal: 24.2ms\tremaining: 484ms\n",
      "1:\tlearn: 0.7277421\ttotal: 48.5ms\tremaining: 460ms\n",
      "2:\tlearn: 0.7505853\ttotal: 70.6ms\tremaining: 424ms\n",
      "3:\tlearn: 0.7682272\ttotal: 93.2ms\tremaining: 396ms\n",
      "4:\tlearn: 0.8071562\ttotal: 118ms\tremaining: 378ms\n",
      "5:\tlearn: 0.8341649\ttotal: 140ms\tremaining: 351ms\n",
      "6:\tlearn: 0.8335161\ttotal: 163ms\tremaining: 327ms\n",
      "7:\tlearn: 0.8436617\ttotal: 186ms\tremaining: 302ms\n",
      "8:\tlearn: 0.8526352\ttotal: 209ms\tremaining: 278ms\n",
      "9:\tlearn: 0.8705373\ttotal: 231ms\tremaining: 254ms\n",
      "10:\tlearn: 0.8841051\ttotal: 255ms\tremaining: 231ms\n",
      "11:\tlearn: 0.8881807\ttotal: 278ms\tremaining: 208ms\n",
      "12:\tlearn: 0.8886158\ttotal: 302ms\tremaining: 186ms\n",
      "13:\tlearn: 0.9027055\ttotal: 325ms\tremaining: 163ms\n",
      "14:\tlearn: 0.9139785\ttotal: 349ms\tremaining: 140ms\n",
      "15:\tlearn: 0.9204821\ttotal: 373ms\tremaining: 117ms\n",
      "16:\tlearn: 0.9225199\ttotal: 396ms\tremaining: 93.1ms\n",
      "17:\tlearn: 0.9253382\ttotal: 419ms\tremaining: 69.9ms\n",
      "18:\tlearn: 0.9268991\ttotal: 443ms\tremaining: 46.6ms\n",
      "19:\tlearn: 0.9305411\ttotal: 467ms\tremaining: 23.3ms\n",
      "20:\tlearn: 0.9370881\ttotal: 491ms\tremaining: 0us\n",
      "Learning rate set to 0.5\n",
      "0:\tlearn: 0.6251750\ttotal: 24.8ms\tremaining: 545ms\n",
      "1:\tlearn: 0.7277421\ttotal: 48.3ms\tremaining: 507ms\n",
      "2:\tlearn: 0.7505853\ttotal: 70.4ms\tremaining: 469ms\n",
      "3:\tlearn: 0.7682272\ttotal: 93.3ms\tremaining: 443ms\n",
      "4:\tlearn: 0.8071562\ttotal: 119ms\tremaining: 427ms\n",
      "5:\tlearn: 0.8341649\ttotal: 141ms\tremaining: 400ms\n",
      "6:\tlearn: 0.8335161\ttotal: 164ms\tremaining: 375ms\n",
      "7:\tlearn: 0.8436617\ttotal: 186ms\tremaining: 349ms\n",
      "8:\tlearn: 0.8526352\ttotal: 209ms\tremaining: 326ms\n",
      "9:\tlearn: 0.8705373\ttotal: 233ms\tremaining: 303ms\n",
      "10:\tlearn: 0.8841051\ttotal: 256ms\tremaining: 279ms\n",
      "11:\tlearn: 0.8881807\ttotal: 279ms\tremaining: 256ms\n",
      "12:\tlearn: 0.8886158\ttotal: 301ms\tremaining: 231ms\n",
      "13:\tlearn: 0.9027055\ttotal: 324ms\tremaining: 208ms\n",
      "14:\tlearn: 0.9139785\ttotal: 348ms\tremaining: 186ms\n",
      "15:\tlearn: 0.9204821\ttotal: 371ms\tremaining: 162ms\n",
      "16:\tlearn: 0.9225199\ttotal: 394ms\tremaining: 139ms\n",
      "17:\tlearn: 0.9253382\ttotal: 417ms\tremaining: 116ms\n",
      "18:\tlearn: 0.9268991\ttotal: 441ms\tremaining: 92.8ms\n",
      "19:\tlearn: 0.9305411\ttotal: 463ms\tremaining: 69.5ms\n",
      "20:\tlearn: 0.9370881\ttotal: 487ms\tremaining: 46.4ms\n",
      "21:\tlearn: 0.9431148\ttotal: 512ms\tremaining: 23.3ms\n",
      "22:\tlearn: 0.9469303\ttotal: 535ms\tremaining: 0us\n",
      "Learning rate set to 0.5\n",
      "0:\tlearn: 0.6251750\ttotal: 24.3ms\tremaining: 583ms\n",
      "1:\tlearn: 0.7277421\ttotal: 48.6ms\tremaining: 559ms\n",
      "2:\tlearn: 0.7505853\ttotal: 70.5ms\tremaining: 517ms\n",
      "3:\tlearn: 0.7682272\ttotal: 92.9ms\tremaining: 487ms\n",
      "4:\tlearn: 0.8071562\ttotal: 118ms\tremaining: 470ms\n",
      "5:\tlearn: 0.8341649\ttotal: 140ms\tremaining: 443ms\n",
      "6:\tlearn: 0.8335161\ttotal: 163ms\tremaining: 418ms\n",
      "7:\tlearn: 0.8436617\ttotal: 185ms\tremaining: 392ms\n",
      "8:\tlearn: 0.8526352\ttotal: 209ms\tremaining: 371ms\n",
      "9:\tlearn: 0.8705373\ttotal: 232ms\tremaining: 347ms\n",
      "10:\tlearn: 0.8841051\ttotal: 254ms\tremaining: 323ms\n",
      "11:\tlearn: 0.8881807\ttotal: 277ms\tremaining: 300ms\n",
      "12:\tlearn: 0.8886158\ttotal: 298ms\tremaining: 275ms\n",
      "13:\tlearn: 0.9027055\ttotal: 321ms\tremaining: 252ms\n",
      "14:\tlearn: 0.9139785\ttotal: 346ms\tremaining: 230ms\n",
      "15:\tlearn: 0.9204821\ttotal: 369ms\tremaining: 207ms\n",
      "16:\tlearn: 0.9225199\ttotal: 393ms\tremaining: 185ms\n"
     ]
    },
    {
     "name": "stdout",
     "output_type": "stream",
     "text": [
      "17:\tlearn: 0.9253382\ttotal: 416ms\tremaining: 162ms\n",
      "18:\tlearn: 0.9268991\ttotal: 440ms\tremaining: 139ms\n",
      "19:\tlearn: 0.9305411\ttotal: 463ms\tremaining: 116ms\n",
      "20:\tlearn: 0.9370881\ttotal: 486ms\tremaining: 92.6ms\n",
      "21:\tlearn: 0.9431148\ttotal: 512ms\tremaining: 69.8ms\n",
      "22:\tlearn: 0.9469303\ttotal: 535ms\tremaining: 46.5ms\n",
      "23:\tlearn: 0.9506590\ttotal: 558ms\tremaining: 23.2ms\n",
      "24:\tlearn: 0.9557319\ttotal: 580ms\tremaining: 0us\n",
      "Learning rate set to 0.5\n",
      "0:\tlearn: 0.6251750\ttotal: 24.5ms\tremaining: 636ms\n",
      "1:\tlearn: 0.7277421\ttotal: 48.2ms\tremaining: 603ms\n",
      "2:\tlearn: 0.7505853\ttotal: 70.1ms\tremaining: 561ms\n",
      "3:\tlearn: 0.7682272\ttotal: 92.5ms\tremaining: 532ms\n",
      "4:\tlearn: 0.8071562\ttotal: 117ms\tremaining: 516ms\n",
      "5:\tlearn: 0.8341649\ttotal: 140ms\tremaining: 488ms\n",
      "6:\tlearn: 0.8335161\ttotal: 162ms\tremaining: 463ms\n",
      "7:\tlearn: 0.8436617\ttotal: 184ms\tremaining: 438ms\n",
      "8:\tlearn: 0.8526352\ttotal: 208ms\tremaining: 417ms\n",
      "9:\tlearn: 0.8705373\ttotal: 231ms\tremaining: 393ms\n",
      "10:\tlearn: 0.8841051\ttotal: 254ms\tremaining: 369ms\n",
      "11:\tlearn: 0.8881807\ttotal: 277ms\tremaining: 346ms\n",
      "12:\tlearn: 0.8886158\ttotal: 299ms\tremaining: 322ms\n",
      "13:\tlearn: 0.9027055\ttotal: 322ms\tremaining: 299ms\n",
      "14:\tlearn: 0.9139785\ttotal: 346ms\tremaining: 277ms\n",
      "15:\tlearn: 0.9204821\ttotal: 370ms\tremaining: 254ms\n",
      "16:\tlearn: 0.9225199\ttotal: 392ms\tremaining: 231ms\n",
      "17:\tlearn: 0.9253382\ttotal: 416ms\tremaining: 208ms\n",
      "18:\tlearn: 0.9268991\ttotal: 439ms\tremaining: 185ms\n",
      "19:\tlearn: 0.9305411\ttotal: 462ms\tremaining: 162ms\n",
      "20:\tlearn: 0.9370881\ttotal: 485ms\tremaining: 139ms\n",
      "21:\tlearn: 0.9431148\ttotal: 510ms\tremaining: 116ms\n",
      "22:\tlearn: 0.9469303\ttotal: 533ms\tremaining: 92.6ms\n",
      "23:\tlearn: 0.9506590\ttotal: 556ms\tremaining: 69.5ms\n",
      "24:\tlearn: 0.9557319\ttotal: 579ms\tremaining: 46.3ms\n",
      "25:\tlearn: 0.9585501\ttotal: 602ms\tremaining: 23.1ms\n",
      "26:\tlearn: 0.9603278\ttotal: 624ms\tremaining: 0us\n",
      "Learning rate set to 0.5\n",
      "0:\tlearn: 0.6251750\ttotal: 24.3ms\tremaining: 681ms\n",
      "1:\tlearn: 0.7277421\ttotal: 48.8ms\tremaining: 659ms\n",
      "2:\tlearn: 0.7505853\ttotal: 71ms\tremaining: 615ms\n",
      "3:\tlearn: 0.7682272\ttotal: 93.7ms\tremaining: 585ms\n",
      "4:\tlearn: 0.8071562\ttotal: 119ms\tremaining: 570ms\n",
      "5:\tlearn: 0.8341649\ttotal: 141ms\tremaining: 540ms\n",
      "6:\tlearn: 0.8335161\ttotal: 163ms\tremaining: 514ms\n",
      "7:\tlearn: 0.8436617\ttotal: 186ms\tremaining: 488ms\n",
      "8:\tlearn: 0.8526352\ttotal: 209ms\tremaining: 464ms\n",
      "9:\tlearn: 0.8705373\ttotal: 232ms\tremaining: 440ms\n",
      "10:\tlearn: 0.8841051\ttotal: 255ms\tremaining: 417ms\n",
      "11:\tlearn: 0.8881807\ttotal: 278ms\tremaining: 394ms\n",
      "12:\tlearn: 0.8886158\ttotal: 300ms\tremaining: 369ms\n",
      "13:\tlearn: 0.9027055\ttotal: 323ms\tremaining: 346ms\n",
      "14:\tlearn: 0.9139785\ttotal: 347ms\tremaining: 324ms\n",
      "15:\tlearn: 0.9204821\ttotal: 371ms\tremaining: 301ms\n",
      "16:\tlearn: 0.9225199\ttotal: 393ms\tremaining: 278ms\n",
      "17:\tlearn: 0.9253382\ttotal: 416ms\tremaining: 254ms\n",
      "18:\tlearn: 0.9268991\ttotal: 440ms\tremaining: 232ms\n",
      "19:\tlearn: 0.9305411\ttotal: 464ms\tremaining: 209ms\n",
      "20:\tlearn: 0.9370881\ttotal: 487ms\tremaining: 186ms\n",
      "21:\tlearn: 0.9431148\ttotal: 513ms\tremaining: 163ms\n",
      "22:\tlearn: 0.9469303\ttotal: 536ms\tremaining: 140ms\n",
      "23:\tlearn: 0.9506590\ttotal: 559ms\tremaining: 116ms\n",
      "24:\tlearn: 0.9557319\ttotal: 582ms\tremaining: 93.1ms\n",
      "25:\tlearn: 0.9585501\ttotal: 604ms\tremaining: 69.7ms\n",
      "26:\tlearn: 0.9603278\ttotal: 628ms\tremaining: 46.5ms\n",
      "27:\tlearn: 0.9642300\ttotal: 651ms\tremaining: 23.3ms\n",
      "28:\tlearn: 0.9659643\ttotal: 675ms\tremaining: 0us\n",
      "Learning rate set to 0.5\n",
      "0:\tlearn: 0.6251750\ttotal: 24.4ms\tremaining: 731ms\n",
      "1:\tlearn: 0.7277421\ttotal: 50.5ms\tremaining: 732ms\n",
      "2:\tlearn: 0.7505853\ttotal: 72.5ms\tremaining: 677ms\n",
      "3:\tlearn: 0.7682272\ttotal: 95ms\tremaining: 641ms\n",
      "4:\tlearn: 0.8071562\ttotal: 120ms\tremaining: 623ms\n",
      "5:\tlearn: 0.8341649\ttotal: 143ms\tremaining: 594ms\n",
      "6:\tlearn: 0.8335161\ttotal: 166ms\tremaining: 569ms\n",
      "7:\tlearn: 0.8436617\ttotal: 188ms\tremaining: 541ms\n",
      "8:\tlearn: 0.8526352\ttotal: 211ms\tremaining: 517ms\n",
      "9:\tlearn: 0.8705373\ttotal: 234ms\tremaining: 492ms\n",
      "10:\tlearn: 0.8841051\ttotal: 257ms\tremaining: 467ms\n",
      "11:\tlearn: 0.8881807\ttotal: 280ms\tremaining: 444ms\n",
      "12:\tlearn: 0.8886158\ttotal: 302ms\tremaining: 419ms\n",
      "13:\tlearn: 0.9027055\ttotal: 325ms\tremaining: 395ms\n",
      "14:\tlearn: 0.9139785\ttotal: 350ms\tremaining: 373ms\n",
      "15:\tlearn: 0.9204821\ttotal: 373ms\tremaining: 350ms\n",
      "16:\tlearn: 0.9225199\ttotal: 396ms\tremaining: 326ms\n",
      "17:\tlearn: 0.9253382\ttotal: 420ms\tremaining: 303ms\n",
      "18:\tlearn: 0.9268991\ttotal: 443ms\tremaining: 280ms\n",
      "19:\tlearn: 0.9305411\ttotal: 467ms\tremaining: 257ms\n",
      "20:\tlearn: 0.9370881\ttotal: 491ms\tremaining: 234ms\n",
      "21:\tlearn: 0.9431148\ttotal: 516ms\tremaining: 211ms\n",
      "22:\tlearn: 0.9469303\ttotal: 539ms\tremaining: 188ms\n",
      "23:\tlearn: 0.9506590\ttotal: 563ms\tremaining: 164ms\n",
      "24:\tlearn: 0.9557319\ttotal: 586ms\tremaining: 141ms\n",
      "25:\tlearn: 0.9585501\ttotal: 608ms\tremaining: 117ms\n",
      "26:\tlearn: 0.9603278\ttotal: 631ms\tremaining: 93.5ms\n",
      "27:\tlearn: 0.9642300\ttotal: 655ms\tremaining: 70.2ms\n",
      "28:\tlearn: 0.9659643\ttotal: 679ms\tremaining: 46.9ms\n",
      "29:\tlearn: 0.9690427\ttotal: 704ms\tremaining: 23.5ms\n",
      "30:\tlearn: 0.9706035\ttotal: 728ms\tremaining: 0us\n",
      "Learning rate set to 0.5\n",
      "0:\tlearn: 0.6251750\ttotal: 24.1ms\tremaining: 772ms\n",
      "1:\tlearn: 0.7277421\ttotal: 48.6ms\tremaining: 753ms\n",
      "2:\tlearn: 0.7505853\ttotal: 70.6ms\tremaining: 706ms\n",
      "3:\tlearn: 0.7682272\ttotal: 93.3ms\tremaining: 677ms\n",
      "4:\tlearn: 0.8071562\ttotal: 118ms\tremaining: 662ms\n",
      "5:\tlearn: 0.8341649\ttotal: 140ms\tremaining: 632ms\n",
      "6:\tlearn: 0.8335161\ttotal: 164ms\tremaining: 609ms\n",
      "7:\tlearn: 0.8436617\ttotal: 186ms\tremaining: 581ms\n",
      "8:\tlearn: 0.8526352\ttotal: 209ms\tremaining: 557ms\n",
      "9:\tlearn: 0.8705373\ttotal: 232ms\tremaining: 533ms\n",
      "10:\tlearn: 0.8841051\ttotal: 255ms\tremaining: 510ms\n",
      "11:\tlearn: 0.8881807\ttotal: 279ms\tremaining: 487ms\n",
      "12:\tlearn: 0.8886158\ttotal: 301ms\tremaining: 463ms\n",
      "13:\tlearn: 0.9027055\ttotal: 324ms\tremaining: 440ms\n",
      "14:\tlearn: 0.9139785\ttotal: 349ms\tremaining: 418ms\n",
      "15:\tlearn: 0.9204821\ttotal: 372ms\tremaining: 395ms\n",
      "16:\tlearn: 0.9225199\ttotal: 395ms\tremaining: 372ms\n",
      "17:\tlearn: 0.9253382\ttotal: 418ms\tremaining: 349ms\n",
      "18:\tlearn: 0.9268991\ttotal: 442ms\tremaining: 326ms\n",
      "19:\tlearn: 0.9305411\ttotal: 465ms\tremaining: 302ms\n",
      "20:\tlearn: 0.9370881\ttotal: 489ms\tremaining: 279ms\n",
      "21:\tlearn: 0.9431148\ttotal: 514ms\tremaining: 257ms\n",
      "22:\tlearn: 0.9469303\ttotal: 538ms\tremaining: 234ms\n",
      "23:\tlearn: 0.9506590\ttotal: 562ms\tremaining: 211ms\n",
      "24:\tlearn: 0.9557319\ttotal: 585ms\tremaining: 187ms\n",
      "25:\tlearn: 0.9585501\ttotal: 607ms\tremaining: 163ms\n",
      "26:\tlearn: 0.9603278\ttotal: 630ms\tremaining: 140ms\n",
      "27:\tlearn: 0.9642300\ttotal: 654ms\tremaining: 117ms\n",
      "28:\tlearn: 0.9659643\ttotal: 678ms\tremaining: 93.5ms\n",
      "29:\tlearn: 0.9690427\ttotal: 702ms\tremaining: 70.2ms\n",
      "30:\tlearn: 0.9706035\ttotal: 725ms\tremaining: 46.8ms\n",
      "31:\tlearn: 0.9727714\ttotal: 748ms\tremaining: 23.4ms\n",
      "32:\tlearn: 0.9744624\ttotal: 771ms\tremaining: 0us\n",
      "Learning rate set to 0.5\n",
      "0:\tlearn: 0.6251750\ttotal: 24ms\tremaining: 817ms\n",
      "1:\tlearn: 0.7277421\ttotal: 48.2ms\tremaining: 795ms\n",
      "2:\tlearn: 0.7505853\ttotal: 70.4ms\tremaining: 751ms\n",
      "3:\tlearn: 0.7682272\ttotal: 93.5ms\tremaining: 725ms\n",
      "4:\tlearn: 0.8071562\ttotal: 119ms\tremaining: 713ms\n",
      "5:\tlearn: 0.8341649\ttotal: 141ms\tremaining: 684ms\n",
      "6:\tlearn: 0.8335161\ttotal: 164ms\tremaining: 657ms\n",
      "7:\tlearn: 0.8436617\ttotal: 187ms\tremaining: 630ms\n",
      "8:\tlearn: 0.8526352\ttotal: 210ms\tremaining: 607ms\n",
      "9:\tlearn: 0.8705373\ttotal: 233ms\tremaining: 583ms\n",
      "10:\tlearn: 0.8841051\ttotal: 255ms\tremaining: 557ms\n",
      "11:\tlearn: 0.8881807\ttotal: 279ms\tremaining: 534ms\n",
      "12:\tlearn: 0.8886158\ttotal: 300ms\tremaining: 508ms\n",
      "13:\tlearn: 0.9027055\ttotal: 323ms\tremaining: 485ms\n",
      "14:\tlearn: 0.9139785\ttotal: 347ms\tremaining: 463ms\n",
      "15:\tlearn: 0.9204821\ttotal: 371ms\tremaining: 440ms\n",
      "16:\tlearn: 0.9225199\ttotal: 394ms\tremaining: 417ms\n",
      "17:\tlearn: 0.9253382\ttotal: 417ms\tremaining: 394ms\n",
      "18:\tlearn: 0.9268991\ttotal: 441ms\tremaining: 371ms\n",
      "19:\tlearn: 0.9305411\ttotal: 463ms\tremaining: 348ms\n",
      "20:\tlearn: 0.9370881\ttotal: 487ms\tremaining: 325ms\n",
      "21:\tlearn: 0.9431148\ttotal: 513ms\tremaining: 303ms\n",
      "22:\tlearn: 0.9469303\ttotal: 535ms\tremaining: 279ms\n",
      "23:\tlearn: 0.9506590\ttotal: 559ms\tremaining: 256ms\n",
      "24:\tlearn: 0.9557319\ttotal: 582ms\tremaining: 233ms\n",
      "25:\tlearn: 0.9585501\ttotal: 604ms\tremaining: 209ms\n",
      "26:\tlearn: 0.9603278\ttotal: 628ms\tremaining: 186ms\n",
      "27:\tlearn: 0.9642300\ttotal: 651ms\tremaining: 163ms\n",
      "28:\tlearn: 0.9659643\ttotal: 675ms\tremaining: 140ms\n",
      "29:\tlearn: 0.9690427\ttotal: 699ms\tremaining: 116ms\n",
      "30:\tlearn: 0.9706035\ttotal: 722ms\tremaining: 93.2ms\n",
      "31:\tlearn: 0.9727714\ttotal: 745ms\tremaining: 69.9ms\n",
      "32:\tlearn: 0.9744624\ttotal: 768ms\tremaining: 46.5ms\n",
      "33:\tlearn: 0.9755029\ttotal: 791ms\tremaining: 23.3ms\n",
      "34:\tlearn: 0.9768037\ttotal: 813ms\tremaining: 0us\n"
     ]
    },
    {
     "name": "stdout",
     "output_type": "stream",
     "text": [
      "Learning rate set to 0.5\n",
      "0:\tlearn: 0.6251750\ttotal: 25.4ms\tremaining: 914ms\n",
      "1:\tlearn: 0.7277421\ttotal: 49.6ms\tremaining: 869ms\n",
      "2:\tlearn: 0.7505853\ttotal: 71.8ms\tremaining: 814ms\n",
      "3:\tlearn: 0.7682272\ttotal: 94.5ms\tremaining: 779ms\n",
      "4:\tlearn: 0.8071562\ttotal: 119ms\tremaining: 762ms\n",
      "5:\tlearn: 0.8341649\ttotal: 141ms\tremaining: 730ms\n",
      "6:\tlearn: 0.8335161\ttotal: 164ms\tremaining: 703ms\n",
      "7:\tlearn: 0.8436617\ttotal: 186ms\tremaining: 675ms\n",
      "8:\tlearn: 0.8526352\ttotal: 209ms\tremaining: 651ms\n",
      "9:\tlearn: 0.8705373\ttotal: 232ms\tremaining: 626ms\n",
      "10:\tlearn: 0.8841051\ttotal: 255ms\tremaining: 603ms\n",
      "11:\tlearn: 0.8881807\ttotal: 278ms\tremaining: 579ms\n",
      "12:\tlearn: 0.8886158\ttotal: 299ms\tremaining: 553ms\n",
      "13:\tlearn: 0.9027055\ttotal: 323ms\tremaining: 530ms\n",
      "14:\tlearn: 0.9139785\ttotal: 347ms\tremaining: 509ms\n",
      "15:\tlearn: 0.9204821\ttotal: 370ms\tremaining: 486ms\n",
      "16:\tlearn: 0.9225199\ttotal: 393ms\tremaining: 463ms\n",
      "17:\tlearn: 0.9253382\ttotal: 417ms\tremaining: 440ms\n",
      "18:\tlearn: 0.9268991\ttotal: 441ms\tremaining: 418ms\n",
      "19:\tlearn: 0.9305411\ttotal: 466ms\tremaining: 396ms\n",
      "20:\tlearn: 0.9370881\ttotal: 489ms\tremaining: 373ms\n",
      "21:\tlearn: 0.9431148\ttotal: 514ms\tremaining: 351ms\n",
      "22:\tlearn: 0.9469303\ttotal: 537ms\tremaining: 327ms\n",
      "23:\tlearn: 0.9506590\ttotal: 561ms\tremaining: 304ms\n",
      "24:\tlearn: 0.9557319\ttotal: 584ms\tremaining: 280ms\n",
      "25:\tlearn: 0.9585501\ttotal: 606ms\tremaining: 257ms\n",
      "26:\tlearn: 0.9603278\ttotal: 629ms\tremaining: 233ms\n",
      "27:\tlearn: 0.9642300\ttotal: 653ms\tremaining: 210ms\n",
      "28:\tlearn: 0.9659643\ttotal: 677ms\tremaining: 187ms\n",
      "29:\tlearn: 0.9690427\ttotal: 701ms\tremaining: 164ms\n",
      "30:\tlearn: 0.9706035\ttotal: 724ms\tremaining: 140ms\n",
      "31:\tlearn: 0.9727714\ttotal: 747ms\tremaining: 117ms\n",
      "32:\tlearn: 0.9744624\ttotal: 769ms\tremaining: 93.3ms\n",
      "33:\tlearn: 0.9755029\ttotal: 793ms\tremaining: 70ms\n",
      "34:\tlearn: 0.9768037\ttotal: 815ms\tremaining: 46.6ms\n",
      "35:\tlearn: 0.9784946\ttotal: 837ms\tremaining: 23.3ms\n",
      "36:\tlearn: 0.9794051\ttotal: 861ms\tremaining: 0us\n",
      "Learning rate set to 0.5\n",
      "0:\tlearn: 0.6251750\ttotal: 24.1ms\tremaining: 915ms\n",
      "1:\tlearn: 0.7277421\ttotal: 47.9ms\tremaining: 886ms\n",
      "2:\tlearn: 0.7505853\ttotal: 69.8ms\tremaining: 837ms\n",
      "3:\tlearn: 0.7682272\ttotal: 92.6ms\tremaining: 810ms\n",
      "4:\tlearn: 0.8071562\ttotal: 118ms\tremaining: 800ms\n",
      "5:\tlearn: 0.8341649\ttotal: 140ms\tremaining: 772ms\n",
      "6:\tlearn: 0.8335161\ttotal: 164ms\tremaining: 748ms\n",
      "7:\tlearn: 0.8436617\ttotal: 187ms\tremaining: 723ms\n",
      "8:\tlearn: 0.8526352\ttotal: 211ms\tremaining: 702ms\n",
      "9:\tlearn: 0.8705373\ttotal: 233ms\tremaining: 676ms\n",
      "10:\tlearn: 0.8841051\ttotal: 256ms\tremaining: 652ms\n",
      "11:\tlearn: 0.8881807\ttotal: 280ms\tremaining: 629ms\n",
      "12:\tlearn: 0.8886158\ttotal: 302ms\tremaining: 604ms\n",
      "13:\tlearn: 0.9027055\ttotal: 325ms\tremaining: 581ms\n",
      "14:\tlearn: 0.9139785\ttotal: 350ms\tremaining: 559ms\n",
      "15:\tlearn: 0.9204821\ttotal: 373ms\tremaining: 537ms\n",
      "16:\tlearn: 0.9225199\ttotal: 396ms\tremaining: 513ms\n",
      "17:\tlearn: 0.9253382\ttotal: 421ms\tremaining: 491ms\n",
      "18:\tlearn: 0.9268991\ttotal: 445ms\tremaining: 468ms\n",
      "19:\tlearn: 0.9305411\ttotal: 467ms\tremaining: 444ms\n",
      "20:\tlearn: 0.9370881\ttotal: 491ms\tremaining: 421ms\n",
      "21:\tlearn: 0.9431148\ttotal: 516ms\tremaining: 399ms\n",
      "22:\tlearn: 0.9469303\ttotal: 539ms\tremaining: 375ms\n",
      "23:\tlearn: 0.9506590\ttotal: 563ms\tremaining: 352ms\n",
      "24:\tlearn: 0.9557319\ttotal: 586ms\tremaining: 328ms\n",
      "25:\tlearn: 0.9585501\ttotal: 609ms\tremaining: 305ms\n",
      "26:\tlearn: 0.9603278\ttotal: 633ms\tremaining: 281ms\n",
      "27:\tlearn: 0.9642300\ttotal: 657ms\tremaining: 258ms\n",
      "28:\tlearn: 0.9659643\ttotal: 681ms\tremaining: 235ms\n",
      "29:\tlearn: 0.9690427\ttotal: 705ms\tremaining: 212ms\n",
      "30:\tlearn: 0.9706035\ttotal: 728ms\tremaining: 188ms\n",
      "31:\tlearn: 0.9727714\ttotal: 751ms\tremaining: 164ms\n",
      "32:\tlearn: 0.9744624\ttotal: 774ms\tremaining: 141ms\n",
      "33:\tlearn: 0.9755029\ttotal: 798ms\tremaining: 117ms\n",
      "34:\tlearn: 0.9768037\ttotal: 820ms\tremaining: 93.8ms\n",
      "35:\tlearn: 0.9784946\ttotal: 843ms\tremaining: 70.2ms\n",
      "36:\tlearn: 0.9794051\ttotal: 867ms\tremaining: 46.9ms\n",
      "37:\tlearn: 0.9810094\ttotal: 890ms\tremaining: 23.4ms\n",
      "38:\tlearn: 0.9820499\ttotal: 916ms\tremaining: 0us\n",
      "Learning rate set to 0.5\n",
      "0:\tlearn: 0.6251750\ttotal: 24.7ms\tremaining: 986ms\n",
      "1:\tlearn: 0.7277421\ttotal: 48.8ms\tremaining: 952ms\n",
      "2:\tlearn: 0.7505853\ttotal: 70.9ms\tremaining: 899ms\n",
      "3:\tlearn: 0.7682272\ttotal: 93.7ms\tremaining: 866ms\n",
      "4:\tlearn: 0.8071562\ttotal: 119ms\tremaining: 854ms\n",
      "5:\tlearn: 0.8341649\ttotal: 141ms\tremaining: 825ms\n",
      "6:\tlearn: 0.8335161\ttotal: 165ms\tremaining: 799ms\n",
      "7:\tlearn: 0.8436617\ttotal: 187ms\tremaining: 773ms\n",
      "8:\tlearn: 0.8526352\ttotal: 211ms\tremaining: 751ms\n",
      "9:\tlearn: 0.8705373\ttotal: 234ms\tremaining: 725ms\n",
      "10:\tlearn: 0.8841051\ttotal: 256ms\tremaining: 699ms\n",
      "11:\tlearn: 0.8881807\ttotal: 279ms\tremaining: 675ms\n",
      "12:\tlearn: 0.8886158\ttotal: 302ms\tremaining: 650ms\n",
      "13:\tlearn: 0.9027055\ttotal: 325ms\tremaining: 627ms\n",
      "14:\tlearn: 0.9139785\ttotal: 349ms\tremaining: 606ms\n",
      "15:\tlearn: 0.9204821\ttotal: 373ms\tremaining: 583ms\n",
      "16:\tlearn: 0.9225199\ttotal: 396ms\tremaining: 559ms\n",
      "17:\tlearn: 0.9253382\ttotal: 421ms\tremaining: 537ms\n",
      "18:\tlearn: 0.9268991\ttotal: 444ms\tremaining: 515ms\n",
      "19:\tlearn: 0.9305411\ttotal: 467ms\tremaining: 491ms\n",
      "20:\tlearn: 0.9370881\ttotal: 491ms\tremaining: 467ms\n",
      "21:\tlearn: 0.9431148\ttotal: 516ms\tremaining: 446ms\n",
      "22:\tlearn: 0.9469303\ttotal: 540ms\tremaining: 422ms\n",
      "23:\tlearn: 0.9506590\ttotal: 563ms\tremaining: 399ms\n",
      "24:\tlearn: 0.9557319\ttotal: 587ms\tremaining: 376ms\n",
      "25:\tlearn: 0.9585501\ttotal: 610ms\tremaining: 352ms\n",
      "26:\tlearn: 0.9603278\ttotal: 634ms\tremaining: 329ms\n",
      "27:\tlearn: 0.9642300\ttotal: 657ms\tremaining: 305ms\n",
      "28:\tlearn: 0.9659643\ttotal: 681ms\tremaining: 282ms\n",
      "29:\tlearn: 0.9690427\ttotal: 705ms\tremaining: 259ms\n",
      "30:\tlearn: 0.9706035\ttotal: 729ms\tremaining: 235ms\n",
      "31:\tlearn: 0.9727714\ttotal: 752ms\tremaining: 211ms\n",
      "32:\tlearn: 0.9744624\ttotal: 774ms\tremaining: 188ms\n",
      "33:\tlearn: 0.9755029\ttotal: 798ms\tremaining: 164ms\n",
      "34:\tlearn: 0.9768037\ttotal: 821ms\tremaining: 141ms\n",
      "35:\tlearn: 0.9784946\ttotal: 844ms\tremaining: 117ms\n",
      "36:\tlearn: 0.9794051\ttotal: 868ms\tremaining: 93.8ms\n",
      "37:\tlearn: 0.9810094\ttotal: 891ms\tremaining: 70.3ms\n",
      "38:\tlearn: 0.9820499\ttotal: 916ms\tremaining: 47ms\n",
      "39:\tlearn: 0.9829171\ttotal: 939ms\tremaining: 23.5ms\n",
      "40:\tlearn: 0.9838710\ttotal: 962ms\tremaining: 0us\n",
      "Learning rate set to 0.5\n",
      "0:\tlearn: 0.6251750\ttotal: 24.3ms\tremaining: 1.02s\n",
      "1:\tlearn: 0.7277421\ttotal: 48.6ms\tremaining: 996ms\n",
      "2:\tlearn: 0.7505853\ttotal: 70.7ms\tremaining: 942ms\n",
      "3:\tlearn: 0.7682272\ttotal: 93.2ms\tremaining: 908ms\n",
      "4:\tlearn: 0.8071562\ttotal: 118ms\tremaining: 895ms\n",
      "5:\tlearn: 0.8341649\ttotal: 140ms\tremaining: 863ms\n",
      "6:\tlearn: 0.8335161\ttotal: 162ms\tremaining: 835ms\n",
      "7:\tlearn: 0.8436617\ttotal: 185ms\tremaining: 810ms\n",
      "8:\tlearn: 0.8526352\ttotal: 209ms\tremaining: 789ms\n",
      "9:\tlearn: 0.8705373\ttotal: 232ms\tremaining: 765ms\n",
      "10:\tlearn: 0.8841051\ttotal: 254ms\tremaining: 739ms\n",
      "11:\tlearn: 0.8881807\ttotal: 277ms\tremaining: 717ms\n",
      "12:\tlearn: 0.8886158\ttotal: 299ms\tremaining: 691ms\n",
      "13:\tlearn: 0.9027055\ttotal: 323ms\tremaining: 668ms\n",
      "14:\tlearn: 0.9139785\ttotal: 347ms\tremaining: 647ms\n",
      "15:\tlearn: 0.9204821\ttotal: 371ms\tremaining: 626ms\n",
      "16:\tlearn: 0.9225199\ttotal: 394ms\tremaining: 602ms\n",
      "17:\tlearn: 0.9253382\ttotal: 417ms\tremaining: 579ms\n",
      "18:\tlearn: 0.9268991\ttotal: 441ms\tremaining: 557ms\n",
      "19:\tlearn: 0.9305411\ttotal: 464ms\tremaining: 533ms\n",
      "20:\tlearn: 0.9370881\ttotal: 487ms\tremaining: 510ms\n",
      "21:\tlearn: 0.9431148\ttotal: 513ms\tremaining: 489ms\n",
      "22:\tlearn: 0.9469303\ttotal: 535ms\tremaining: 465ms\n",
      "23:\tlearn: 0.9506590\ttotal: 559ms\tremaining: 442ms\n",
      "24:\tlearn: 0.9557319\ttotal: 582ms\tremaining: 419ms\n",
      "25:\tlearn: 0.9585501\ttotal: 605ms\tremaining: 395ms\n",
      "26:\tlearn: 0.9603278\ttotal: 628ms\tremaining: 372ms\n",
      "27:\tlearn: 0.9642300\ttotal: 652ms\tremaining: 349ms\n",
      "28:\tlearn: 0.9659643\ttotal: 676ms\tremaining: 326ms\n",
      "29:\tlearn: 0.9690427\ttotal: 700ms\tremaining: 303ms\n",
      "30:\tlearn: 0.9706035\ttotal: 724ms\tremaining: 280ms\n",
      "31:\tlearn: 0.9727714\ttotal: 746ms\tremaining: 257ms\n",
      "32:\tlearn: 0.9744624\ttotal: 769ms\tremaining: 233ms\n",
      "33:\tlearn: 0.9755029\ttotal: 792ms\tremaining: 210ms\n",
      "34:\tlearn: 0.9768037\ttotal: 814ms\tremaining: 186ms\n",
      "35:\tlearn: 0.9784946\ttotal: 836ms\tremaining: 163ms\n",
      "36:\tlearn: 0.9794051\ttotal: 861ms\tremaining: 140ms\n",
      "37:\tlearn: 0.9810094\ttotal: 883ms\tremaining: 116ms\n",
      "38:\tlearn: 0.9820499\ttotal: 910ms\tremaining: 93.3ms\n",
      "39:\tlearn: 0.9829171\ttotal: 932ms\tremaining: 69.9ms\n",
      "40:\tlearn: 0.9838710\ttotal: 956ms\tremaining: 46.6ms\n",
      "41:\tlearn: 0.9843913\ttotal: 978ms\tremaining: 23.3ms\n",
      "42:\tlearn: 0.9859088\ttotal: 1s\tremaining: 0us\n"
     ]
    },
    {
     "name": "stdout",
     "output_type": "stream",
     "text": [
      "Learning rate set to 0.5\n",
      "0:\tlearn: 0.6251750\ttotal: 24.3ms\tremaining: 1.07s\n",
      "1:\tlearn: 0.7277421\ttotal: 48.9ms\tremaining: 1.05s\n",
      "2:\tlearn: 0.7505853\ttotal: 71ms\tremaining: 995ms\n",
      "3:\tlearn: 0.7682272\ttotal: 93.8ms\tremaining: 961ms\n",
      "4:\tlearn: 0.8071562\ttotal: 119ms\tremaining: 950ms\n",
      "5:\tlearn: 0.8341649\ttotal: 141ms\tremaining: 916ms\n",
      "6:\tlearn: 0.8335161\ttotal: 164ms\tremaining: 889ms\n",
      "7:\tlearn: 0.8436617\ttotal: 187ms\tremaining: 864ms\n",
      "8:\tlearn: 0.8526352\ttotal: 211ms\tremaining: 842ms\n",
      "9:\tlearn: 0.8705373\ttotal: 235ms\tremaining: 821ms\n",
      "10:\tlearn: 0.8841051\ttotal: 258ms\tremaining: 796ms\n",
      "11:\tlearn: 0.8881807\ttotal: 280ms\tremaining: 771ms\n",
      "12:\tlearn: 0.8886158\ttotal: 302ms\tremaining: 744ms\n",
      "13:\tlearn: 0.9027055\ttotal: 325ms\tremaining: 721ms\n",
      "14:\tlearn: 0.9139785\ttotal: 349ms\tremaining: 699ms\n",
      "15:\tlearn: 0.9204821\ttotal: 373ms\tremaining: 676ms\n",
      "16:\tlearn: 0.9225199\ttotal: 396ms\tremaining: 652ms\n",
      "17:\tlearn: 0.9253382\ttotal: 420ms\tremaining: 630ms\n",
      "18:\tlearn: 0.9268991\ttotal: 443ms\tremaining: 607ms\n",
      "19:\tlearn: 0.9305411\ttotal: 467ms\tremaining: 584ms\n",
      "20:\tlearn: 0.9370881\ttotal: 490ms\tremaining: 560ms\n",
      "21:\tlearn: 0.9431148\ttotal: 516ms\tremaining: 539ms\n",
      "22:\tlearn: 0.9469303\ttotal: 538ms\tremaining: 515ms\n",
      "23:\tlearn: 0.9506590\ttotal: 562ms\tremaining: 492ms\n",
      "24:\tlearn: 0.9557319\ttotal: 585ms\tremaining: 468ms\n",
      "25:\tlearn: 0.9585501\ttotal: 609ms\tremaining: 445ms\n",
      "26:\tlearn: 0.9603278\ttotal: 632ms\tremaining: 421ms\n",
      "27:\tlearn: 0.9642300\ttotal: 656ms\tremaining: 398ms\n",
      "28:\tlearn: 0.9659643\ttotal: 680ms\tremaining: 375ms\n",
      "29:\tlearn: 0.9690427\ttotal: 704ms\tremaining: 352ms\n",
      "30:\tlearn: 0.9706035\ttotal: 727ms\tremaining: 328ms\n",
      "31:\tlearn: 0.9727714\ttotal: 750ms\tremaining: 305ms\n",
      "32:\tlearn: 0.9744624\ttotal: 773ms\tremaining: 281ms\n",
      "33:\tlearn: 0.9755029\ttotal: 796ms\tremaining: 258ms\n",
      "34:\tlearn: 0.9768037\ttotal: 819ms\tremaining: 234ms\n",
      "35:\tlearn: 0.9784946\ttotal: 841ms\tremaining: 210ms\n",
      "36:\tlearn: 0.9794051\ttotal: 865ms\tremaining: 187ms\n",
      "37:\tlearn: 0.9810094\ttotal: 888ms\tremaining: 164ms\n",
      "38:\tlearn: 0.9820499\ttotal: 914ms\tremaining: 141ms\n",
      "39:\tlearn: 0.9829171\ttotal: 936ms\tremaining: 117ms\n",
      "40:\tlearn: 0.9838710\ttotal: 959ms\tremaining: 93.6ms\n",
      "41:\tlearn: 0.9843913\ttotal: 981ms\tremaining: 70.1ms\n",
      "42:\tlearn: 0.9859088\ttotal: 1s\tremaining: 46.8ms\n",
      "43:\tlearn: 0.9865591\ttotal: 1.03s\tremaining: 23.4ms\n",
      "44:\tlearn: 0.9868626\ttotal: 1.05s\tremaining: 0us\n",
      "Learning rate set to 0.5\n",
      "0:\tlearn: 0.6251750\ttotal: 24.9ms\tremaining: 1.15s\n",
      "1:\tlearn: 0.7277421\ttotal: 48.8ms\tremaining: 1.1s\n",
      "2:\tlearn: 0.7505853\ttotal: 71ms\tremaining: 1.04s\n",
      "3:\tlearn: 0.7682272\ttotal: 93.7ms\tremaining: 1.01s\n",
      "4:\tlearn: 0.8071562\ttotal: 119ms\tremaining: 995ms\n",
      "5:\tlearn: 0.8341649\ttotal: 141ms\tremaining: 964ms\n",
      "6:\tlearn: 0.8335161\ttotal: 164ms\tremaining: 937ms\n",
      "7:\tlearn: 0.8436617\ttotal: 186ms\tremaining: 908ms\n",
      "8:\tlearn: 0.8526352\ttotal: 210ms\tremaining: 885ms\n",
      "9:\tlearn: 0.8705373\ttotal: 233ms\tremaining: 861ms\n",
      "10:\tlearn: 0.8841051\ttotal: 255ms\tremaining: 836ms\n",
      "11:\tlearn: 0.8881807\ttotal: 279ms\tremaining: 813ms\n",
      "12:\tlearn: 0.8886158\ttotal: 301ms\tremaining: 788ms\n",
      "13:\tlearn: 0.9027055\ttotal: 325ms\tremaining: 766ms\n",
      "14:\tlearn: 0.9139785\ttotal: 349ms\tremaining: 745ms\n",
      "15:\tlearn: 0.9204821\ttotal: 372ms\tremaining: 722ms\n",
      "16:\tlearn: 0.9225199\ttotal: 395ms\tremaining: 698ms\n",
      "17:\tlearn: 0.9253382\ttotal: 419ms\tremaining: 675ms\n",
      "18:\tlearn: 0.9268991\ttotal: 443ms\tremaining: 653ms\n",
      "19:\tlearn: 0.9305411\ttotal: 466ms\tremaining: 629ms\n",
      "20:\tlearn: 0.9370881\ttotal: 489ms\tremaining: 605ms\n",
      "21:\tlearn: 0.9431148\ttotal: 514ms\tremaining: 585ms\n",
      "22:\tlearn: 0.9469303\ttotal: 537ms\tremaining: 560ms\n",
      "23:\tlearn: 0.9506590\ttotal: 561ms\tremaining: 537ms\n",
      "24:\tlearn: 0.9557319\ttotal: 584ms\tremaining: 514ms\n",
      "25:\tlearn: 0.9585501\ttotal: 606ms\tremaining: 490ms\n",
      "26:\tlearn: 0.9603278\ttotal: 630ms\tremaining: 467ms\n",
      "27:\tlearn: 0.9642300\ttotal: 654ms\tremaining: 444ms\n",
      "28:\tlearn: 0.9659643\ttotal: 678ms\tremaining: 421ms\n",
      "29:\tlearn: 0.9690427\ttotal: 702ms\tremaining: 398ms\n",
      "30:\tlearn: 0.9706035\ttotal: 726ms\tremaining: 375ms\n",
      "31:\tlearn: 0.9727714\ttotal: 749ms\tremaining: 351ms\n",
      "32:\tlearn: 0.9744624\ttotal: 771ms\tremaining: 327ms\n",
      "33:\tlearn: 0.9755029\ttotal: 795ms\tremaining: 304ms\n",
      "34:\tlearn: 0.9768037\ttotal: 817ms\tremaining: 280ms\n",
      "35:\tlearn: 0.9784946\ttotal: 841ms\tremaining: 257ms\n",
      "36:\tlearn: 0.9794051\ttotal: 865ms\tremaining: 234ms\n",
      "37:\tlearn: 0.9810094\ttotal: 889ms\tremaining: 211ms\n",
      "38:\tlearn: 0.9820499\ttotal: 916ms\tremaining: 188ms\n",
      "39:\tlearn: 0.9829171\ttotal: 938ms\tremaining: 164ms\n",
      "40:\tlearn: 0.9838710\ttotal: 961ms\tremaining: 141ms\n",
      "41:\tlearn: 0.9843913\ttotal: 984ms\tremaining: 117ms\n",
      "42:\tlearn: 0.9859088\ttotal: 1.01s\tremaining: 93.8ms\n",
      "43:\tlearn: 0.9865591\ttotal: 1.03s\tremaining: 70.3ms\n",
      "44:\tlearn: 0.9868626\ttotal: 1.05s\tremaining: 46.8ms\n",
      "45:\tlearn: 0.9874696\ttotal: 1.07s\tremaining: 23.4ms\n",
      "46:\tlearn: 0.9877298\ttotal: 1.1s\tremaining: 0us\n",
      "Learning rate set to 0.5\n",
      "0:\tlearn: 0.6251750\ttotal: 24.4ms\tremaining: 1.17s\n",
      "1:\tlearn: 0.7277421\ttotal: 49.1ms\tremaining: 1.15s\n",
      "2:\tlearn: 0.7505853\ttotal: 71.5ms\tremaining: 1.1s\n",
      "3:\tlearn: 0.7682272\ttotal: 94.1ms\tremaining: 1.06s\n",
      "4:\tlearn: 0.8071562\ttotal: 119ms\tremaining: 1.05s\n",
      "5:\tlearn: 0.8341649\ttotal: 141ms\tremaining: 1.01s\n",
      "6:\tlearn: 0.8335161\ttotal: 164ms\tremaining: 986ms\n",
      "7:\tlearn: 0.8436617\ttotal: 187ms\tremaining: 957ms\n",
      "8:\tlearn: 0.8526352\ttotal: 210ms\tremaining: 934ms\n",
      "9:\tlearn: 0.8705373\ttotal: 234ms\tremaining: 911ms\n",
      "10:\tlearn: 0.8841051\ttotal: 256ms\tremaining: 886ms\n",
      "11:\tlearn: 0.8881807\ttotal: 280ms\tremaining: 864ms\n",
      "12:\tlearn: 0.8886158\ttotal: 303ms\tremaining: 838ms\n",
      "13:\tlearn: 0.9027055\ttotal: 326ms\tremaining: 815ms\n",
      "14:\tlearn: 0.9139785\ttotal: 350ms\tremaining: 793ms\n",
      "15:\tlearn: 0.9204821\ttotal: 374ms\tremaining: 771ms\n",
      "16:\tlearn: 0.9225199\ttotal: 397ms\tremaining: 746ms\n",
      "17:\tlearn: 0.9253382\ttotal: 421ms\tremaining: 724ms\n",
      "18:\tlearn: 0.9268991\ttotal: 444ms\tremaining: 702ms\n",
      "19:\tlearn: 0.9305411\ttotal: 467ms\tremaining: 677ms\n",
      "20:\tlearn: 0.9370881\ttotal: 491ms\tremaining: 654ms\n",
      "21:\tlearn: 0.9431148\ttotal: 516ms\tremaining: 633ms\n",
      "22:\tlearn: 0.9469303\ttotal: 539ms\tremaining: 609ms\n",
      "23:\tlearn: 0.9506590\ttotal: 562ms\tremaining: 586ms\n",
      "24:\tlearn: 0.9557319\ttotal: 586ms\tremaining: 562ms\n",
      "25:\tlearn: 0.9585501\ttotal: 609ms\tremaining: 538ms\n",
      "26:\tlearn: 0.9603278\ttotal: 633ms\tremaining: 516ms\n",
      "27:\tlearn: 0.9642300\ttotal: 656ms\tremaining: 492ms\n",
      "28:\tlearn: 0.9659643\ttotal: 680ms\tremaining: 469ms\n",
      "29:\tlearn: 0.9690427\ttotal: 705ms\tremaining: 446ms\n",
      "30:\tlearn: 0.9706035\ttotal: 728ms\tremaining: 423ms\n",
      "31:\tlearn: 0.9727714\ttotal: 751ms\tremaining: 399ms\n",
      "32:\tlearn: 0.9744624\ttotal: 774ms\tremaining: 375ms\n",
      "33:\tlearn: 0.9755029\ttotal: 797ms\tremaining: 352ms\n",
      "34:\tlearn: 0.9768037\ttotal: 819ms\tremaining: 328ms\n",
      "35:\tlearn: 0.9784946\ttotal: 843ms\tremaining: 304ms\n",
      "36:\tlearn: 0.9794051\ttotal: 867ms\tremaining: 281ms\n",
      "37:\tlearn: 0.9810094\ttotal: 890ms\tremaining: 258ms\n",
      "38:\tlearn: 0.9820499\ttotal: 916ms\tremaining: 235ms\n",
      "39:\tlearn: 0.9829171\ttotal: 938ms\tremaining: 211ms\n",
      "40:\tlearn: 0.9838710\ttotal: 961ms\tremaining: 187ms\n",
      "41:\tlearn: 0.9843913\ttotal: 983ms\tremaining: 164ms\n",
      "42:\tlearn: 0.9859088\ttotal: 1.01s\tremaining: 141ms\n",
      "43:\tlearn: 0.9865591\ttotal: 1.03s\tremaining: 117ms\n",
      "44:\tlearn: 0.9868626\ttotal: 1.05s\tremaining: 93.6ms\n",
      "45:\tlearn: 0.9874696\ttotal: 1.07s\tremaining: 70.1ms\n",
      "46:\tlearn: 0.9877298\ttotal: 1.1s\tremaining: 46.8ms\n",
      "47:\tlearn: 0.9884235\ttotal: 1.12s\tremaining: 23.4ms\n",
      "48:\tlearn: 0.9891606\ttotal: 1.15s\tremaining: 0us\n"
     ]
    }
   ],
   "source": [
    "data= pd.DataFrame(columns=['Iteration', 'Roc_auc_train', 'Roc_auc_test'])\n",
    "\n",
    "w = y_train[y_train.TARGET == 0].shape[0]/y_train[y_train.TARGET == 1].shape[0]\n",
    "for its in range(1, 51, 2):\n",
    "    new_row = {}\n",
    "    baseline_model = CatBoostClassifier(loss_function='Logloss',eval_metric='WKappa',class_weights={0: 1.0, 1: w},iterations=its)\n",
    "    baseline_model.fit(X_train, y_train)\n",
    "\n",
    "    new_row['Iteration'] =its\n",
    "    new_row['Roc_auc_train'] = roc_auc_score(y_train,  baseline_model.predict(X_train))\n",
    "    new_row['Roc_auc_test'] = roc_auc_score(y_test,  baseline_model.predict(X_test))\n",
    "    data = data.append(new_row,ignore_index=True)"
   ]
  },
  {
   "cell_type": "code",
   "execution_count": null,
   "id": "8c5d5346",
   "metadata": {},
   "outputs": [],
   "source": []
  },
  {
   "cell_type": "code",
   "execution_count": null,
   "id": "a2e5ea53",
   "metadata": {},
   "outputs": [],
   "source": []
  },
  {
   "cell_type": "code",
   "execution_count": 18,
   "id": "a8f0d9e2",
   "metadata": {},
   "outputs": [
    {
     "data": {
      "image/png": "[encoded data removed]",
      "text/plain": [
       "<Figure size 432x288 with 1 Axes>"
      ]
     },
     "metadata": {
      "needs_background": "light"
     },
     "output_type": "display_data"
    }
   ],
   "source": [
    "fig, ax = plt.subplots()\n",
    "ax.plot(data.Iteration, data.Roc_auc_train ,color='blue')\n",
    "ax.plot(data.Iteration, data.Roc_auc_test ,color='red')\n",
    "\n",
    "ax.set(xlabel='iter', ylabel='roc-auc')\n",
    "ax.set_ylim([0, 1])\n",
    "ax.grid()\n",
    "\n",
    "plt.show()"
   ]
  },
  {
   "cell_type": "code",
   "execution_count": 19,
   "id": "a87a9577",
   "metadata": {},
   "outputs": [
    {
     "name": "stdout",
     "output_type": "stream",
     "text": [
      "Learning rate set to 0.5\n",
      "0:\tlearn: 0.6251750\ttotal: 24.9ms\tremaining: 224ms\n",
      "1:\tlearn: 0.7277421\ttotal: 49.4ms\tremaining: 198ms\n",
      "2:\tlearn: 0.7505853\ttotal: 71.6ms\tremaining: 167ms\n",
      "3:\tlearn: 0.7682272\ttotal: 94.3ms\tremaining: 141ms\n",
      "4:\tlearn: 0.8071562\ttotal: 119ms\tremaining: 119ms\n",
      "5:\tlearn: 0.8341649\ttotal: 142ms\tremaining: 94.5ms\n",
      "6:\tlearn: 0.8335161\ttotal: 165ms\tremaining: 70.9ms\n",
      "7:\tlearn: 0.8436617\ttotal: 188ms\tremaining: 47.1ms\n",
      "8:\tlearn: 0.8526352\ttotal: 212ms\tremaining: 23.5ms\n",
      "9:\tlearn: 0.8705373\ttotal: 234ms\tremaining: 0us\n"
     ]
    },
    {
     "data": {
      "text/plain": [
       "<catboost.core.CatBoostClassifier at 0x21c22efa880>"
      ]
     },
     "execution_count": 19,
     "metadata": {},
     "output_type": "execute_result"
    }
   ],
   "source": [
    "baseline_model = CatBoostClassifier(loss_function='Logloss',eval_metric='WKappa',class_weights={0: 1.0, 1: w},iterations=10)\n",
    "baseline_model.fit(X_train, y_train)"
   ]
  },
  {
   "cell_type": "code",
   "execution_count": 20,
   "id": "067300f3",
   "metadata": {},
   "outputs": [],
   "source": [
    "df_fi = pd.DataFrame({'feature_importance': baseline_model.get_feature_importance(), \n",
    "              'feature_names': df_new.drop(columns=drop_list).columns}).sort_values(by=['feature_importance'], \n",
    "                                                           ascending=False, ignore_index = True)"
   ]
  },
  {
   "cell_type": "code",
   "execution_count": 21,
   "id": "a6e3ebe2",
   "metadata": {},
   "outputs": [
    {
     "name": "stdout",
     "output_type": "stream",
     "text": [
      "92.93362636572574 23\n"
     ]
    }
   ],
   "source": [
    "sum_fi =0\n",
    "count_feat = 0\n",
    "for i in range(df_fi.shape[0]):\n",
    "    count_feat+=1\n",
    "    sum_fi += df_fi.iloc[i].feature_importance\n",
    "    if sum_fi > 92:\n",
    "        break;\n",
    "        \n",
    "        \n",
    "print(sum_fi,count_feat)"
   ]
  },
  {
   "cell_type": "code",
   "execution_count": 23,
   "id": "882aa181",
   "metadata": {},
   "outputs": [
    {
     "data": {
      "text/plain": [
       "<AxesSubplot:ylabel='feature_names'>"
      ]
     },
     "execution_count": 23,
     "metadata": {},
     "output_type": "execute_result"
    },
    {
     "data": {
      "image/png": "[encoded data removed]",
      "text/plain": [
       "<Figure size 432x288 with 1 Axes>"
      ]
     },
     "metadata": {
      "needs_background": "light"
     },
     "output_type": "display_data"
    }
   ],
   "source": [
    "df_fi.head(23).groupby('feature_names')['feature_importance'].sum().sort_values().plot.barh()"
   ]
  },
  {
   "cell_type": "code",
   "execution_count": 24,
   "id": "033c034b",
   "metadata": {},
   "outputs": [],
   "source": [
    "feat_for_std = df_fi.head(23).feature_names.values"
   ]
  },
  {
   "cell_type": "code",
   "execution_count": 25,
   "id": "427fd3ee",
   "metadata": {},
   "outputs": [
    {
     "data": {
      "text/plain": [
       "array(['PASSP_ADDRESS_CITY_NM', 'TOP1_CNT_CAR_MODEL', 'OSG_REACT_FLG',\n",
       "       'TOP2_CNT_CAR_MODEL', 'AVG_YS_FROM_CONST', 'AGR_CNT_DELTA_3Y_AP',\n",
       "       'AVG_ENGINEPOWERKW', 'PREMIUM_AMT_RUR_RATIO_1Y_AP', 'OS_MOB_PHONE',\n",
       "       'AGR_PROLONG_PART_2Y_IFL', 'TOP2_CNT_CAR_MARK',\n",
       "       'AVG_INCOME_AMT_RUR_3Y_AP', 'TOP1_CNT_CAR_MARK',\n",
       "       'DATE_BEG_DRIVE_DIFF_MONTH', 'AGR_CNT_DELTA_1Y_AP',\n",
       "       'MODEL_MOB_PHONE', 'OSG_COMM_HISTORY_DELIVERED_FOR_AT_1Y_3M_1M',\n",
       "       'CNT_OSG_AGENT_SALES', 'AVG_INSURED_AMT_RUR_1Y_AP',\n",
       "       'AVG_PREMRUB_PRIMARY', 'OTH_REACT_FLG', 'MIN_INCOME_AMT_RUR_AT_AP',\n",
       "       'AGR_PROLONG_PART_1Y_OSG'], dtype=object)"
      ]
     },
     "execution_count": 25,
     "metadata": {},
     "output_type": "execute_result"
    }
   ],
   "source": [
    "feat_for_std"
   ]
  },
  {
   "cell_type": "code",
   "execution_count": 26,
   "id": "fe06ddb1",
   "metadata": {},
   "outputs": [],
   "source": [
    "feat_for_std = ['PASSP_ADDRESS_CITY_NM', 'TOP1_CNT_CAR_MODEL', 'OSG_REACT_FLG',\n",
    "       'TOP2_CNT_CAR_MODEL', 'AVG_YS_FROM_CONST', 'AGR_CNT_DELTA_3Y_AP',\n",
    "       'AVG_ENGINEPOWERKW', 'PREMIUM_AMT_RUR_RATIO_1Y_AP', 'OS_MOB_PHONE',\n",
    "       'AGR_PROLONG_PART_2Y_IFL', 'TOP2_CNT_CAR_MARK',\n",
    "       'AVG_INCOME_AMT_RUR_3Y_AP', 'TOP1_CNT_CAR_MARK',\n",
    "       'DATE_BEG_DRIVE_DIFF_MONTH', 'AGR_CNT_DELTA_1Y_AP',\n",
    "       'MODEL_MOB_PHONE', 'OSG_COMM_HISTORY_DELIVERED_FOR_AT_1Y_3M_1M',\n",
    "       'CNT_OSG_AGENT_SALES', 'AVG_INSURED_AMT_RUR_1Y_AP',\n",
    "       'AVG_PREMRUB_PRIMARY', 'OTH_REACT_FLG', 'MIN_INCOME_AMT_RUR_AT_AP',\n",
    "       'AGR_PROLONG_PART_1Y_OSG']"
   ]
  },
  {
   "cell_type": "code",
   "execution_count": null,
   "id": "8e945387",
   "metadata": {},
   "outputs": [],
   "source": []
  },
  {
   "cell_type": "code",
   "execution_count": null,
   "id": "7832f931",
   "metadata": {},
   "outputs": [],
   "source": []
  },
  {
   "cell_type": "markdown",
   "id": "434116eb",
   "metadata": {},
   "source": [
    "# Tuning"
   ]
  },
  {
   "cell_type": "code",
   "execution_count": 27,
   "id": "a26f575f",
   "metadata": {},
   "outputs": [],
   "source": [
    "# X_train, X_test, y_train, y_test"
   ]
  },
  {
   "cell_type": "code",
   "execution_count": 28,
   "id": "f7946205",
   "metadata": {},
   "outputs": [],
   "source": [
    "import json\n",
    "import itertools\n",
    "from tqdm import tqdm\n",
    " \n",
    " \n",
    "def grid_gen(param_grid):\n",
    "  \"\"\"\n",
    "  полчение сетки параметров для обучения\n",
    "  \"\"\"\n",
    " \n",
    "  grid = list(itertools.product(*(param_grid[i] for i in param_grid.keys())))\n",
    "  df = pd.DataFrame(data=grid, columns = param_grid.keys())\n",
    "  return df"
   ]
  },
  {
   "cell_type": "code",
   "execution_count": 29,
   "id": "cb5309a7",
   "metadata": {},
   "outputs": [],
   "source": [
    "def train_model(param_grid,\n",
    "                STAGE_NUM,\n",
    "                df_train=X_train[feat_for_std],\n",
    "                df_test=X_test[feat_for_std],\n",
    "                target_train=y_train.TARGET,\n",
    "                target_test=y_test.TARGET\n",
    "                ):\n",
    "    \"\"\"\n",
    "    обучение CatBoost по сетке\n",
    "    \"\"\"\n",
    " \n",
    "    # метрики на наборе параметров  \n",
    "    # list_net_loss_train = []\n",
    "    # list_net_loss_test = []\n",
    " \n",
    "    # метрики на итерации обучения\n",
    "    list_of_df = []\n",
    " \n",
    "    grid_df = grid_gen(param_grid)\n",
    "    params = grid_df.to_json(orient='records')\n",
    "    params = json.loads(params)\n",
    " \n",
    "    grid_df.reset_index(inplace=True)\n",
    "    grid_df.rename(columns={'index': 'param_set'}, inplace=True)\n",
    " \n",
    "    print(\"Перебор гиперпараметров\")\n",
    "   \n",
    "    for i in tqdm(range(len(params))):\n",
    "        model = CatBoostClassifier(\n",
    "            **params[i],\n",
    "            # task_type=\"GPU\",\n",
    "            loss_function='Logloss',\n",
    "            eval_metric='WKappa'\n",
    "        )\n",
    " \n",
    "        model.fit(\n",
    "            df_train,\n",
    "            target_train,\n",
    "            eval_set=(df_test, target_test),\n",
    "            # verbose=True\n",
    "            verbose=False\n",
    "        )\n",
    " \n",
    "       \n",
    "        # метрики на наборе параметров  \n",
    "        # y_pred_train = pd.DataFrame(model.predict_proba(df_train))\n",
    "        # y_pred_test = pd.DataFrame(model.predict_proba(df_test))\n",
    "       \n",
    "        # # кастомная\n",
    "        # list_net_loss_train.append(_net_loss(df_train, y_pred_train))\n",
    "        # list_net_loss_test.append(_net_loss(df_test, y_pred_test))\n",
    " \n",
    "        # метрики на итерации обучения\n",
    "        df_evals = pd.DataFrame()\n",
    "       \n",
    "        df_evals['learn_Logloss'] = model.evals_result_['learn']['Logloss']\n",
    "        df_evals['validation_Logloss'] = model.evals_result_['validation']['Logloss']\n",
    "        df_evals['learn_WKappa'] = model.evals_result_['learn']['WKappa']\n",
    "        df_evals['validation_WKappa'] = model.evals_result_['validation']['WKappa']\n",
    " \n",
    "        df_evals['param_set'] = i # номер набора параметров\n",
    " \n",
    "        df_evals.reset_index(inplace=True)\n",
    "        df_evals.rename(columns={'index': 'iteration_on_set'}, inplace=True)\n",
    " \n",
    "        list_of_df.append(df_evals) # сохраняем промежуточные итерации (TODO: мб в паркет, а то память не бесконечна ??? )\n",
    "   \n",
    "   \n",
    "    print('запись метрик')\n",
    "    # grid_df['FINAL_net_loss_TRAIN'] = list_net_loss_train\n",
    "    # grid_df['FINAL_net_loss_TEST'] = list_net_loss_test\n",
    " \n",
    "    print('Join параметров и метрик')\n",
    "    df_merge = pd.concat(list_of_df, ignore_index= True )\n",
    "    grid_df = grid_df.merge(df_merge, on='param_set', how='left')  \n",
    "   \n",
    "    print('Сохранение в csv: ' + f'stage_{STAGE_NUM}_pc_model_train.csv')\n",
    "    grid_df.to_csv(f'stage_{STAGE_NUM}_pc_model_train.csv')\n",
    " \n",
    "    print('Сохранение в excel: ' + f'stage_{STAGE_NUM}_pc_model_train.xlsx')\n",
    "    grid_df.to_excel(f'stage_{STAGE_NUM}_pc_model_train.xlsx')"
   ]
  },
  {
   "cell_type": "code",
   "execution_count": 36,
   "id": "59462942",
   "metadata": {},
   "outputs": [],
   "source": [
    "STAGE_NUM = 0\n",
    " \n",
    "param_grid_test = {\n",
    "        'learning_rate': np.arange(0.05, 0.35, 0.05),\n",
    "        'depth': range(2,10,2),\n",
    "        'iterations': [10],\n",
    "        'scale_pos_weight': range(98, 105, 1)          \n",
    "            }"
   ]
  },
  {
   "cell_type": "code",
   "execution_count": 39,
   "id": "5a0d6218",
   "metadata": {},
   "outputs": [],
   "source": [
    "STAGE_NUM = 1\n",
    " \n",
    "param_grid_test = {\n",
    "        'learning_rate': np.arange(0.15, 0.25, 0.01),\n",
    "        'depth': range(3,9,1),\n",
    "        'iterations': range(5,11,1),\n",
    "        'scale_pos_weight': np.arange(98, 101, 0.1)          \n",
    "            }"
   ]
  },
  {
   "cell_type": "code",
   "execution_count": 40,
   "id": "a6cf1a79",
   "metadata": {},
   "outputs": [
    {
     "name": "stdout",
     "output_type": "stream",
     "text": [
      "Перебор гиперпараметров\n"
     ]
    },
    {
     "name": "stderr",
     "output_type": "stream",
     "text": [
      "100%|████████████████████████████████████████████████████████████████████████████| 10800/10800 [25:46<00:00,  6.99it/s]\n"
     ]
    },
    {
     "name": "stdout",
     "output_type": "stream",
     "text": [
      "запись метрик\n",
      "Join параметров и метрик\n",
      "Сохранение в csv: stage_1_pc_model_train.csv\n",
      "Сохранение в excel: stage_1_pc_model_train.xlsx\n"
     ]
    }
   ],
   "source": [
    "train_model(param_grid_test, STAGE_NUM)"
   ]
  },
  {
   "cell_type": "code",
   "execution_count": null,
   "id": "8820a069",
   "metadata": {},
   "outputs": [],
   "source": []
  },
  {
   "cell_type": "code",
   "execution_count": null,
   "id": "cfaee21b",
   "metadata": {},
   "outputs": [],
   "source": []
  },
  {
   "cell_type": "markdown",
   "id": "535495c9",
   "metadata": {},
   "source": [
    "# Learn bst model"
   ]
  },
  {
   "cell_type": "code",
   "execution_count": 41,
   "id": "813d2966",
   "metadata": {},
   "outputs": [],
   "source": [
    "df_new = pd.read_parquet('../data/osg_em_df_prepared_with_clients_feat_21_03.parquet')"
   ]
  },
  {
   "cell_type": "code",
   "execution_count": 42,
   "id": "12d4dfc7",
   "metadata": {},
   "outputs": [],
   "source": [
    "drop_list = ['OBSDATE','CLIENTISN','TARGET']"
   ]
  },
  {
   "cell_type": "code",
   "execution_count": 43,
   "id": "e544e5bc",
   "metadata": {},
   "outputs": [],
   "source": [
    "X = df_new[feat_for_std]\n",
    "y = df_new[['TARGET']]"
   ]
  },
  {
   "cell_type": "code",
   "execution_count": 44,
   "id": "874ede71",
   "metadata": {},
   "outputs": [],
   "source": [
    "X_train, X_test, y_train, y_test = train_test_split(X, y, test_size=0.2, random_state=123)"
   ]
  },
  {
   "cell_type": "code",
   "execution_count": null,
   "id": "7232bb9a",
   "metadata": {},
   "outputs": [],
   "source": []
  },
  {
   "cell_type": "code",
   "execution_count": 45,
   "id": "cb495a86",
   "metadata": {},
   "outputs": [],
   "source": [
    "bst_param = {\n",
    "        'learning_rate': 0.21,\n",
    "        'depth': 8,\n",
    "        'iterations': 9,\n",
    "        'scale_pos_weight': 100.6,\n",
    "        'loss_function':'Logloss',\n",
    "        'eval_metric':'WKappa'\n",
    "            }"
   ]
  },
  {
   "cell_type": "code",
   "execution_count": 46,
   "id": "a935c37e",
   "metadata": {},
   "outputs": [],
   "source": [
    "bst_model = CatBoostClassifier(**bst_param)"
   ]
  },
  {
   "cell_type": "code",
   "execution_count": 47,
   "id": "9f19e990",
   "metadata": {},
   "outputs": [
    {
     "name": "stdout",
     "output_type": "stream",
     "text": [
      "0:\tlearn: 0.7018197\ttotal: 10.5ms\tremaining: 83.7ms\n",
      "1:\tlearn: 0.7294274\ttotal: 25.1ms\tremaining: 87.9ms\n",
      "2:\tlearn: 0.7622619\ttotal: 40.6ms\tremaining: 81.1ms\n",
      "3:\tlearn: 0.7871849\ttotal: 55.4ms\tremaining: 69.3ms\n",
      "4:\tlearn: 0.8239651\ttotal: 70.2ms\tremaining: 56.1ms\n",
      "5:\tlearn: 0.8339374\ttotal: 84.4ms\tremaining: 42.2ms\n",
      "6:\tlearn: 0.8391416\ttotal: 94.6ms\tremaining: 27ms\n",
      "7:\tlearn: 0.8434267\ttotal: 111ms\tremaining: 13.9ms\n",
      "8:\tlearn: 0.8618785\ttotal: 126ms\tremaining: 0us\n"
     ]
    },
    {
     "data": {
      "text/plain": [
       "<catboost.core.CatBoostClassifier at 0x21c23226b80>"
      ]
     },
     "execution_count": 47,
     "metadata": {},
     "output_type": "execute_result"
    }
   ],
   "source": [
    "bst_model.fit(X_train[feat_for_std], y_train)"
   ]
  },
  {
   "cell_type": "code",
   "execution_count": 48,
   "id": "ccb1c319",
   "metadata": {},
   "outputs": [],
   "source": [
    "X_val = X_train\n",
    "y_val = y_train"
   ]
  },
  {
   "cell_type": "code",
   "execution_count": 49,
   "id": "cf05599c",
   "metadata": {},
   "outputs": [
    {
     "name": "stdout",
     "output_type": "stream",
     "text": [
      "recall:    0.9821 precision:    0.0741 f1:    0.1378 f1/2:      0.0909 roc auc:      0.9315\n"
     ]
    }
   ],
   "source": [
    "predict_val = bst_model.predict(X_val)\n",
    "rec_val=recall_score(y_val, predict_val)\n",
    "pre_val=precision_score(y_val, predict_val,)\n",
    "f1_val=f1_score(y_val, predict_val)\n",
    "f1_2_val = fbeta_score(y_val, predict_val, beta=0.5)\n",
    "roc_auc_val = roc_auc_score(y_val, bst_model.predict(X_val))\n",
    "rec_val=np.round(rec_val, 4) \n",
    "pre_val=np.round(pre_val, 4)  \n",
    "f1_val=np.round(f1_val , 4)\n",
    "f1_2_val=np.round(f1_2_val , 4) \n",
    "roc_auc_val=np.round(roc_auc_val , 4) \n",
    "print('recall:   ',rec_val ,'precision:   ',pre_val ,'f1:   ',f1_val \n",
    "      ,'f1/2:     ',f1_2_val ,'roc auc:     ',roc_auc_val )"
   ]
  },
  {
   "cell_type": "code",
   "execution_count": 50,
   "id": "91ab1f50",
   "metadata": {},
   "outputs": [],
   "source": [
    "X_val = X_test\n",
    "y_val = y_test"
   ]
  },
  {
   "cell_type": "code",
   "execution_count": 51,
   "id": "5eba2e92",
   "metadata": {},
   "outputs": [
    {
     "name": "stdout",
     "output_type": "stream",
     "text": [
      "recall:    0.95 precision:    0.0769 f1:    0.1423 f1/2:      0.0942 roc auc:      0.9156\n"
     ]
    }
   ],
   "source": [
    "predict_val = bst_model.predict(X_val)\n",
    "rec_val=recall_score(y_val, predict_val)\n",
    "pre_val=precision_score(y_val, predict_val,)\n",
    "f1_val=f1_score(y_val, predict_val)\n",
    "f1_2_val = fbeta_score(y_val, predict_val, beta=0.5)\n",
    "roc_auc_val = roc_auc_score(y_val, bst_model.predict(X_val))\n",
    "rec_val=np.round(rec_val, 4) \n",
    "pre_val=np.round(pre_val, 4)  \n",
    "f1_val=np.round(f1_val , 4)\n",
    "f1_2_val=np.round(f1_2_val , 4) \n",
    "roc_auc_val=np.round(roc_auc_val , 4) \n",
    "print('recall:   ',rec_val ,'precision:   ',pre_val ,'f1:   ',f1_val \n",
    "      ,'f1/2:     ',f1_2_val ,'roc auc:     ',roc_auc_val )"
   ]
  },
  {
   "cell_type": "code",
   "execution_count": 52,
   "id": "9494e2fb",
   "metadata": {},
   "outputs": [
    {
     "name": "stdout",
     "output_type": "stream",
     "text": [
      "23288 5822\n"
     ]
    }
   ],
   "source": [
    "print(X_train.shape[0],X_test.shape[0])"
   ]
  },
  {
   "cell_type": "code",
   "execution_count": 53,
   "id": "3b0bf8b8",
   "metadata": {},
   "outputs": [
    {
     "data": {
      "text/plain": [
       "224"
      ]
     },
     "execution_count": 53,
     "metadata": {},
     "output_type": "execute_result"
    }
   ],
   "source": [
    "y_train[y_train.TARGET >0].shape[0]"
   ]
  },
  {
   "cell_type": "code",
   "execution_count": 54,
   "id": "feee88aa",
   "metadata": {},
   "outputs": [
    {
     "data": {
      "text/plain": [
       "60"
      ]
     },
     "execution_count": 54,
     "metadata": {},
     "output_type": "execute_result"
    }
   ],
   "source": [
    "y_test[y_test.TARGET >0].shape[0] "
   ]
  },
  {
   "cell_type": "code",
   "execution_count": 55,
   "id": "161ab07b",
   "metadata": {},
   "outputs": [],
   "source": [
    "with open('igs_life_model.pickle', 'wb') as f:\n",
    "    pickle.dump(bst_model, f)"
   ]
  },
  {
   "cell_type": "code",
   "execution_count": null,
   "id": "92f34139",
   "metadata": {},
   "outputs": [],
   "source": []
  },
  {
   "cell_type": "code",
   "execution_count": null,
   "id": "bbe220f1",
   "metadata": {},
   "outputs": [],
   "source": []
  }
 ],
 "metadata": {
  "kernelspec": {
   "display_name": "Python 3 (ipykernel)",
   "language": "python",
   "name": "python3"
  },
  "language_info": {
   "codemirror_mode": {
    "name": "ipython",
    "version": 3
   },
   "file_extension": ".py",
   "mimetype": "text/x-python",
   "name": "python",
   "nbconvert_exporter": "python",
   "pygments_lexer": "ipython3",
   "version": "3.9.7"
  }
 },
 "nbformat": 4,
 "nbformat_minor": 5
}
